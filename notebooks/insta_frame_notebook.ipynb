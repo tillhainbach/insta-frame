{
 "cells": [
  {
   "cell_type": "code",
   "execution_count": 5,
   "metadata": {},
   "outputs": [],
   "source": [
    "import cv2\n",
    "import numpy as np\n",
    "import numpy.typing as npt\n",
    "from typing import Any\n",
    "from functools import partial\n",
    "import matplotlib.pyplot as plt\n"
   ]
  },
  {
   "cell_type": "code",
   "execution_count": 8,
   "metadata": {},
   "outputs": [
    {
     "data": {
      "image/png": "[encoded data removed]",
      "text/plain": [
       "<Figure size 432x288 with 1 Axes>"
      ]
     },
     "metadata": {
      "needs_background": "light"
     },
     "output_type": "display_data"
    }
   ],
   "source": [
    "%matplotlib inline\n",
    "a = np.array([[[255, 255, 255]]], dtype=np.uint8)\n",
    "b = np.array([[[255, 0, 0]]], dtype=np.uint8)\n",
    "c = np.array([[[0, 255, 0]]], dtype=np.uint8)\n",
    "a.shape\n",
    "def _tile(shape, x):\n",
    "    return np.tile(x, shape)\n",
    "\n",
    "tile_3x3 = partial(_tile, (200, 200, 1))\n",
    "flag = np.hstack(tuple(map(tile_3x3, [a, b, c])))\n",
    "plt.imshow(flag)\n",
    "plt.show()"
   ]
  },
  {
   "cell_type": "code",
   "execution_count": null,
   "metadata": {},
   "outputs": [],
   "source": []
  }
 ],
 "metadata": {
  "interpreter": {
   "hash": "ebe3252dc0ac44834cb2414794bfc0072766ce40a572e22f7635150333380c5b"
  },
  "kernelspec": {
   "display_name": "Python 3.9.7 ('.venv': poetry)",
   "language": "python",
   "name": "python3"
  },
  "language_info": {
   "codemirror_mode": {
    "name": "ipython",
    "version": 3
   },
   "file_extension": ".py",
   "mimetype": "text/x-python",
   "name": "python",
   "nbconvert_exporter": "python",
   "pygments_lexer": "ipython3",
   "version": "3.9.7"
  },
  "orig_nbformat": 4
 },
 "nbformat": 4,
 "nbformat_minor": 2
}
